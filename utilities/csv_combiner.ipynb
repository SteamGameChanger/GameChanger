{
 "cells": [
  {
   "cell_type": "code",
   "execution_count": 11,
   "id": "67d98925",
   "metadata": {},
   "outputs": [],
   "source": [
    "import csv\n",
    "import pandas as pd"
   ]
  },
  {
   "cell_type": "code",
   "execution_count": 12,
   "id": "e66f438d",
   "metadata": {},
   "outputs": [],
   "source": [
    "kaggle_path = 'kaggle_data.csv'\n",
    "steam_1_path = 'steam_data(to 40000).csv'\n",
    "steam_2_path = 'steam_data(40000 to 58852).csv'\n",
    "vg_1_path = 'vg_data(to 30000).csv'\n",
    "vg_2_path = 'vg_data(30000 to 58852).csv'"
   ]
  },
  {
   "cell_type": "code",
   "execution_count": 22,
   "id": "80480c7f",
   "metadata": {},
   "outputs": [],
   "source": [
    "with open(kaggle_path, 'r', encoding='cp949', errors='replace') as kaggle_file, \\\n",
    "open(steam_1_path, 'r', encoding='utf8', errors='replace') as steam_1_file, \\\n",
    "open(steam_2_path, 'r', encoding='utf8', errors='replace') as steam_2_file, \\\n",
    "open(vg_1_path, 'r', encoding='cp949', errors='replace') as vg_1_file, \\\n",
    "open(vg_2_path, 'r', encoding='cp949', errors='replace') as vg_2_file:\n",
    "    kaggle_df = pd.read_csv(kaggle_file)\n",
    "    steam_1_df = pd.read_csv(steam_1_file)\n",
    "    steam_2_df = pd.read_csv(steam_2_file)\n",
    "    vg_1_df = pd.read_csv(vg_1_file)\n",
    "    vg_2_df = pd.read_csv(vg_2_file)\n",
    "    \n",
    "steam_1_df = steam_1_df.iloc[:, 5:]\n",
    "steam_2_df = steam_2_df.iloc[:, 5:]\n",
    "vg_1_df = vg_1_df.iloc[:, 3:]\n",
    "vg_2_df = vg_2_df.iloc[1:, 3:]\n",
    "\n",
    "header_combined = list(kaggle_df.columns) + list(steam_1_df.columns) + list(steam_2_df.columns) + \\\n",
    "list(vg_1_df.columns) + list(vg_2_df.columns)\n"
   ]
  },
  {
   "cell_type": "code",
   "execution_count": 23,
   "id": "bdea3a9f",
   "metadata": {},
   "outputs": [
    {
     "name": "stdout",
     "output_type": "stream",
     "text": [
      "kaggle_df has 58851 rows.\n",
      "steam_1_df has 40000 rows.\n",
      "steam_2_df has 31716 rows.\n",
      "vg_1_df has 30001 rows.\n",
      "vg_2_df has 28850 rows.\n"
     ]
    }
   ],
   "source": [
    "kaggle_columns = kaggle_df.shape[0]\n",
    "steam_1_columns = steam_1_df.shape[0]\n",
    "steam_2_columns = steam_2_df.shape[0]\n",
    "vg_1_columns = vg_1_df.shape[0]\n",
    "vg_2_columns = vg_2_df.shape[0]\n",
    "\n",
    "print(f\"kaggle_df has {kaggle_columns} rows.\")\n",
    "print(f\"steam_1_df has {steam_1_columns} rows.\")\n",
    "print(f\"steam_2_df has {steam_2_columns} rows.\")\n",
    "print(f\"vg_1_df has {vg_1_columns} rows.\")\n",
    "print(f\"vg_2_df has {vg_2_columns} rows.\")"
   ]
  },
  {
   "cell_type": "code",
   "execution_count": 24,
   "id": "ab24f72f",
   "metadata": {},
   "outputs": [
    {
     "name": "stdout",
     "output_type": "stream",
     "text": [
      "  estimated_revenue estimated_units_sold number_of_reviews steam_rating\n",
      "0               NaN                  NaN               NaN          NaN\n",
      "1              69.0                  5.0              17.0        0.353\n",
      "2             901.0                  1.0              63.0        0.889\n",
      "3               0.0                  0.0               0.0          0.0\n",
      "4               NaN                  NaN               NaN          NaN\n"
     ]
    }
   ],
   "source": [
    "combined_vg_df = pd.concat([vg_1_df, vg_2_df], ignore_index=True)\n",
    "print(combined_vg_df.head())"
   ]
  },
  {
   "cell_type": "code",
   "execution_count": 25,
   "id": "c1924b40",
   "metadata": {},
   "outputs": [],
   "source": [
    "if kaggle_df.shape[0] == combined_vg_df.shape[0]:\n",
    "    combined_df = pd.concat([kaggle_df, combined_vg_df], axis=1)\n",
    "else:\n",
    "    print(\"The number of rows in kaggle_df and combined_vg_df do not match. Please handle the difference before concatenating.\")"
   ]
  },
  {
   "cell_type": "code",
   "execution_count": 31,
   "id": "6f63767f",
   "metadata": {},
   "outputs": [],
   "source": [
    "def encode_with_replace(s):\n",
    "    if isinstance(s, str):\n",
    "        return s.encode('cp949', errors='replace').decode('cp949')\n",
    "    else:\n",
    "        return s"
   ]
  },
  {
   "cell_type": "code",
   "execution_count": 32,
   "id": "29d3e7b8",
   "metadata": {},
   "outputs": [],
   "source": [
    "string_columns = combined_df.select_dtypes(include='object').columns\n",
    "combined_df[string_columns] = combined_df[string_columns].applymap(encode_with_replace)\n",
    "\n",
    "output_path = 'combined_output.csv'\n",
    "combined_df.to_csv(output_path, index=False, encoding='cp949')"
   ]
  },
  {
   "cell_type": "code",
   "execution_count": null,
   "id": "0ccf7f1b",
   "metadata": {},
   "outputs": [],
   "source": []
  }
 ],
 "metadata": {
  "kernelspec": {
   "display_name": "Python 3 (ipykernel)",
   "language": "python",
   "name": "python3"
  },
  "language_info": {
   "codemirror_mode": {
    "name": "ipython",
    "version": 3
   },
   "file_extension": ".py",
   "mimetype": "text/x-python",
   "name": "python",
   "nbconvert_exporter": "python",
   "pygments_lexer": "ipython3",
   "version": "3.9.12"
  }
 },
 "nbformat": 4,
 "nbformat_minor": 5
}
